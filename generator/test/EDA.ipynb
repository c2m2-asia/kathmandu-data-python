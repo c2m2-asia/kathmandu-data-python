{
 "cells": [
  {
   "cell_type": "code",
   "execution_count": 3,
   "id": "worst-particle",
   "metadata": {},
   "outputs": [],
   "source": [
    "import pandas as pd\n",
    "import numpy as np\n",
    "import psycopg2\n",
    "from sqlalchemy import create_engine\n",
    "import matplotlib.pyplot as plt\n",
    "import seaborn as sns\n",
    "%matplotlib inline"
   ]
  },
  {
   "cell_type": "code",
   "execution_count": 3,
   "id": "absolute-honduras",
   "metadata": {},
   "outputs": [],
   "source": [
    "engine = create_engine('postgresql+psycopg2://{user}:{passwd}@{host}:{port}/{db}'.format(\n",
    "        user='postgres',\n",
    "        passwd=12345,\n",
    "        host='localhost',\n",
    "        port='5432',\n",
    "        db='c2m2'))"
   ]
  },
  {
   "cell_type": "code",
   "execution_count": 5,
   "id": "transparent-relevance",
   "metadata": {},
   "outputs": [],
   "source": [
    "business_univariate_stats = pd.read_sql('business_univariate_stats', engine)"
   ]
  },
  {
   "cell_type": "code",
   "execution_count": 7,
   "id": "confirmed-bumper",
   "metadata": {},
   "outputs": [
    {
     "data": {
      "text/html": [
       "<div>\n",
       "<style scoped>\n",
       "    .dataframe tbody tr th:only-of-type {\n",
       "        vertical-align: middle;\n",
       "    }\n",
       "\n",
       "    .dataframe tbody tr th {\n",
       "        vertical-align: top;\n",
       "    }\n",
       "\n",
       "    .dataframe thead th {\n",
       "        text-align: right;\n",
       "    }\n",
       "</style>\n",
       "<table border=\"1\" class=\"dataframe\">\n",
       "  <thead>\n",
       "    <tr style=\"text-align: right;\">\n",
       "      <th></th>\n",
       "      <th>variable</th>\n",
       "      <th>value</th>\n",
       "      <th>label__en</th>\n",
       "      <th>label__ne</th>\n",
       "      <th>variable_group</th>\n",
       "      <th>total</th>\n",
       "      <th>perc_of_total</th>\n",
       "      <th>asked_total</th>\n",
       "      <th>universe</th>\n",
       "      <th>label_index</th>\n",
       "      <th>index</th>\n",
       "    </tr>\n",
       "  </thead>\n",
       "  <tbody>\n",
       "    <tr>\n",
       "      <th>0</th>\n",
       "      <td>m_biz_years_in_operation</td>\n",
       "      <td>1</td>\n",
       "      <td>Less than a year</td>\n",
       "      <td>एक बर्ष भन्दा कम</td>\n",
       "      <td>general</td>\n",
       "      <td>1</td>\n",
       "      <td>0.008929</td>\n",
       "      <td>112</td>\n",
       "      <td>112</td>\n",
       "      <td>2</td>\n",
       "      <td>1</td>\n",
       "    </tr>\n",
       "    <tr>\n",
       "      <th>1</th>\n",
       "      <td>m_biz_years_in_operation</td>\n",
       "      <td>2</td>\n",
       "      <td>1 to 2 years</td>\n",
       "      <td>१-२ बर्ष</td>\n",
       "      <td>general</td>\n",
       "      <td>21</td>\n",
       "      <td>0.187500</td>\n",
       "      <td>112</td>\n",
       "      <td>112</td>\n",
       "      <td>3</td>\n",
       "      <td>2</td>\n",
       "    </tr>\n",
       "    <tr>\n",
       "      <th>2</th>\n",
       "      <td>m_biz_years_in_operation</td>\n",
       "      <td>4</td>\n",
       "      <td>6 to 10 years</td>\n",
       "      <td>६-१० बर्ष</td>\n",
       "      <td>general</td>\n",
       "      <td>27</td>\n",
       "      <td>0.241071</td>\n",
       "      <td>112</td>\n",
       "      <td>112</td>\n",
       "      <td>4</td>\n",
       "      <td>3</td>\n",
       "    </tr>\n",
       "    <tr>\n",
       "      <th>3</th>\n",
       "      <td>m_biz_years_in_operation</td>\n",
       "      <td>3</td>\n",
       "      <td>3 to 5 years</td>\n",
       "      <td>३-५ बर्ष</td>\n",
       "      <td>general</td>\n",
       "      <td>30</td>\n",
       "      <td>0.267857</td>\n",
       "      <td>112</td>\n",
       "      <td>112</td>\n",
       "      <td>5</td>\n",
       "      <td>4</td>\n",
       "    </tr>\n",
       "    <tr>\n",
       "      <th>4</th>\n",
       "      <td>m_biz_years_in_operation</td>\n",
       "      <td>5</td>\n",
       "      <td>11 years or above</td>\n",
       "      <td>११ बर्ष वा माथि</td>\n",
       "      <td>general</td>\n",
       "      <td>33</td>\n",
       "      <td>0.294643</td>\n",
       "      <td>112</td>\n",
       "      <td>112</td>\n",
       "      <td>6</td>\n",
       "      <td>5</td>\n",
       "    </tr>\n",
       "  </tbody>\n",
       "</table>\n",
       "</div>"
      ],
      "text/plain": [
       "                   variable value          label__en         label__ne  \\\n",
       "0  m_biz_years_in_operation     1   Less than a year  एक बर्ष भन्दा कम   \n",
       "1  m_biz_years_in_operation     2       1 to 2 years          १-२ बर्ष   \n",
       "2  m_biz_years_in_operation     4      6 to 10 years         ६-१० बर्ष   \n",
       "3  m_biz_years_in_operation     3       3 to 5 years          ३-५ बर्ष   \n",
       "4  m_biz_years_in_operation     5  11 years or above   ११ बर्ष वा माथि   \n",
       "\n",
       "  variable_group  total  perc_of_total  asked_total  universe  label_index  \\\n",
       "0        general      1       0.008929          112       112            2   \n",
       "1        general     21       0.187500          112       112            3   \n",
       "2        general     27       0.241071          112       112            4   \n",
       "3        general     30       0.267857          112       112            5   \n",
       "4        general     33       0.294643          112       112            6   \n",
       "\n",
       "   index  \n",
       "0      1  \n",
       "1      2  \n",
       "2      3  \n",
       "3      4  \n",
       "4      5  "
      ]
     },
     "execution_count": 7,
     "metadata": {},
     "output_type": "execute_result"
    }
   ],
   "source": [
    "business_univariate_stats.head()"
   ]
  },
  {
   "cell_type": "code",
   "execution_count": 25,
   "id": "acquired-inspection",
   "metadata": {},
   "outputs": [
    {
     "data": {
      "image/png": "[encoded data removed]",
      "text/plain": [
       "<Figure size 864x432 with 1 Axes>"
      ]
     },
     "metadata": {
      "needs_background": "light"
     },
     "output_type": "display_data"
    }
   ],
   "source": [
    "plt.figure(figsize=(12,6))\n",
    "stopped_business = business_univariate_stats[business_univariate_stats['variable'] == 'i_econ_stop_business']\n",
    "sns.barplot(data=stopped_business, x='label__en', y='perc_of_total')\n",
    "plt.title('Due to Covid-19 pandemic {} business are forced to stop permanently while {} business are temporarily closed,'.format(stopped_business['total'].tolist()[1],stopped_business['total'].tolist()[2]))\n",
    "plt.show()"
   ]
  },
  {
   "cell_type": "code",
   "execution_count": 27,
   "id": "bacterial-lotus",
   "metadata": {},
   "outputs": [
    {
     "data": {
      "image/png": "[encoded data removed]",
      "text/plain": [
       "<Figure size 864x432 with 1 Axes>"
      ]
     },
     "metadata": {
      "needs_background": "light"
     },
     "output_type": "display_data"
    }
   ],
   "source": [
    "plt.figure(figsize=(12,6))\n",
    "stopped_business = business_univariate_stats[business_univariate_stats['variable'] == 'o_perm_stop_biz_start_new']\n",
    "sns.barplot(data=stopped_business, x='label__en', y='perc_of_total')\n",
    "plt.title(\"Out of permanently stopped businesses, have they started any other business? \")\n",
    "plt.show()"
   ]
  },
  {
   "cell_type": "code",
   "execution_count": 32,
   "id": "northern-hello",
   "metadata": {},
   "outputs": [
    {
     "data": {
      "image/png": "[encoded data removed]",
      "text/plain": [
       "<Figure size 864x432 with 1 Axes>"
      ]
     },
     "metadata": {
      "needs_background": "light"
     },
     "output_type": "display_data"
    }
   ],
   "source": [
    "plt.figure(figsize=(12,6))\n",
    "stopped_business = business_univariate_stats[business_univariate_stats['variable'] == 'o_perm_stop_biz_start_new_job']\n",
    "sns.barplot(data=stopped_business, x='label__en', y='perc_of_total')\n",
    "plt.title(\"Out of permanently stopped businesses, have they started new job?\")+\n",
    "-qs\n",
    "plt.show()"
   ]
  },
  {
   "cell_type": "code",
   "execution_count": 4,
   "id": "combined-shipping",
   "metadata": {},
   "outputs": [],
   "source": [
    "business = pd.read_excel('../raw/business_data.xlsx')"
   ]
  },
  {
   "cell_type": "code",
   "execution_count": 27,
   "id": "magnetic-tribute",
   "metadata": {},
   "outputs": [
    {
     "data": {
      "text/plain": [
       "1.0    17\n",
       "3.0     2\n",
       "Name: o_perm_stop_biz_start_new_job, dtype: int64"
      ]
     },
     "execution_count": 27,
     "metadata": {},
     "output_type": "execute_result"
    }
   ],
   "source": [
    "business['o_perm_stop_biz_start_new_job']"
   ]
  },
  {
   "cell_type": "code",
   "execution_count": 33,
   "id": "changing-static",
   "metadata": {},
   "outputs": [],
   "source": [
    "def stopped_business_cond(no_business, tourism_business, non_tourism_business, job_status):\n",
    "    status = []\n",
    "    for i in range(len(no_business)):\n",
    "        value = np.nan\n",
    "        if no_business[i]==1 and job_status[i]==1:\n",
    "            value = 1\n",
    "        elif (tourism_business[i]==1 and job_status[i]==2) or (no_business[i]==1 and job_status[i]==2) or (tourism_business[i]==1 and job_status[i]==1):\n",
    "            value = 2\n",
    "        elif (non_tourism_business[i]==1 and job_status[i]==3) or (no_business[i]==1 and job_status[i]==3) or (non_tourism_business[i]==1 and job_status[i]==1):\n",
    "            value = 3\n",
    "        elif (tourism_business[i]==1 and job_status[i]==3) or (non_tourism_business[i]==1 and job_status[i]==2) or (tourism_business[i]==1 and non_tourism_business[i]==1):\n",
    "            value = 4\n",
    "        status.append(value)\n",
    "    return status\n",
    "    "
   ]
  },
  {
   "cell_type": "code",
   "execution_count": 34,
   "id": "acceptable-effects",
   "metadata": {},
   "outputs": [],
   "source": [
    "business['status_perm_stopped_business'] = stopped_business_cond(business['o_perm_stop_biz_start_new__1'], \n",
    "                                                                 business['o_perm_stop_biz_start_new__2'],\n",
    "                                                                 business['o_perm_stop_biz_start_new__3'],\n",
    "                                                                 business['o_perm_stop_biz_start_new_job'])"
   ]
  },
  {
   "cell_type": "code",
   "execution_count": 36,
   "id": "driven-fabric",
   "metadata": {},
   "outputs": [
    {
     "data": {
      "text/plain": [
       "1.0    15\n",
       "3.0     4\n",
       "Name: status_perm_stopped_business, dtype: int64"
      ]
     },
     "execution_count": 36,
     "metadata": {},
     "output_type": "execute_result"
    }
   ],
   "source": [
    "business['status_perm_stopped_business'].value_counts()"
   ]
  },
  {
   "cell_type": "code",
   "execution_count": 39,
   "id": "geological-syndicate",
   "metadata": {},
   "outputs": [],
   "source": [
    "workers = pd.read_excel('../raw/workers_data.xlsx')"
   ]
  },
  {
   "cell_type": "code",
   "execution_count": 64,
   "id": "theoretical-adolescent",
   "metadata": {},
   "outputs": [],
   "source": [
    "def workers_derived_variables(self_location, family_location):\n",
    "    status = []\n",
    "    for i in range(len(self_location)):\n",
    "        value=np.nan\n",
    "        if self_location[i]==4 and family_location[i] == 1:\n",
    "            value=1\n",
    "        else:\n",
    "            value=2\n",
    "        status.append(value)\n",
    "    return status"
   ]
  },
  {
   "cell_type": "code",
   "execution_count": 65,
   "id": "unusual-statistics",
   "metadata": {},
   "outputs": [],
   "source": [
    "workers['i_lvlhd_domicile_chng_self_fml'] = workers_derived_variables(workers['i_lvlhd_domicile_chng_self'], workers['i_lvlhd_domicile_chng_fml'])"
   ]
  },
  {
   "cell_type": "code",
   "execution_count": 71,
   "id": "dominican-instrument",
   "metadata": {},
   "outputs": [
    {
     "data": {
      "text/plain": [
       "2    143\n",
       "1    115\n",
       "Name: i_lvlhd_domicile_chng_self_fml, dtype: int64"
      ]
     },
     "execution_count": 71,
     "metadata": {},
     "output_type": "execute_result"
    }
   ],
   "source": [
    "workers['i_lvlhd_domicile_chng_self_fml'].value_counts()"
   ]
  },
  {
   "cell_type": "code",
   "execution_count": 72,
   "id": "requested-kernel",
   "metadata": {},
   "outputs": [
    {
     "data": {
      "text/plain": [
       "0.5542635658914729"
      ]
     },
     "execution_count": 72,
     "metadata": {},
     "output_type": "execute_result"
    }
   ],
   "source": [
    "workers['i_lvlhd_domicile_chng_self_fml'] = workers_derived_variables(workers['i_lvlhd_domicile_chng_self'], workers['i_lvlhd_domicile_chng_fml'])"
   ]
  },
  {
   "cell_type": "code",
   "execution_count": 87,
   "id": "visible-beach",
   "metadata": {},
   "outputs": [],
   "source": [
    "def workers_derive_infection(self_infection, family_infection):\n",
    "    status = []\n",
    "    for i in range(len(self_infection)):\n",
    "        value=np.nan\n",
    "        if self_infection[i]==2 and family_infection[i]==2:\n",
    "            value=0\n",
    "        else:\n",
    "            value=1\n",
    "        status.append(value)\n",
    "    return status"
   ]
  },
  {
   "cell_type": "code",
   "execution_count": 88,
   "id": "known-orchestra",
   "metadata": {},
   "outputs": [],
   "source": [
    "workers['i_hlth_covid_infectn_self_fml']= workers_derive_infection(workers['i_hlth_covid_infectn_self'], workers['i_hlth_covid_infectn_family']) workers[''= workers_derive_infection(workers['i_hlth_covid_infectn_self'], workers['i_hlth_covid_infectn_family'])"
   ]
  },
  {
   "cell_type": "code",
   "execution_count": 95,
   "id": "threaded-wrapping",
   "metadata": {},
   "outputs": [
    {
     "data": {
      "text/plain": [
       "0      1\n",
       "1      0\n",
       "2      0\n",
       "3      0\n",
       "4      0\n",
       "      ..\n",
       "253    0\n",
       "254    0\n",
       "255    1\n",
       "256    1\n",
       "257    0\n",
       "Name: i_econ_covid_effects__1, Length: 258, dtype: int64"
      ]
     },
     "execution_count": 95,
     "metadata": {},
     "output_type": "execute_result"
    }
   ],
   "source": [
    "workers['i_econ_covid_effects__1']"
   ]
  },
  {
   "cell_type": "code",
   "execution_count": 33,
   "id": "cc407436-5c55-4e28-94f4-c0390ca4174f",
   "metadata": {},
   "outputs": [],
   "source": [
    "def workers_derive_factors(raw_data, columns):\n",
    "    status=[]\n",
    "    for i in raw_data[columns].values:\n",
    "        if np.isnan(i).all()==True:\n",
    "            status.append(np.nan)\n",
    "        if 1 in i:\n",
    "            status.append(1)\n",
    "        else:\n",
    "            status.append(0)\n",
    "    return status"
   ]
  },
  {
   "cell_type": "code",
   "execution_count": 34,
   "id": "9bbe6138-1654-4a96-9a65-ff581a3a31b8",
   "metadata": {},
   "outputs": [],
   "source": [
    "business['i_covid_effect_business__10'] = workers_derive_factors(business, ['i_covid_effect_business__3', 'i_covid_effect_business__4', \n",
    "                                                                            'i_covid_effect_business__8', 'i_covid_effect_business__10'])\n",
    "business['i_covid_effect_business__6'] = workers_derive_factors(business, ['i_covid_effect_business__6', 'i_covid_effect_business__7'])"
   ]
  },
  {
   "cell_type": "code",
   "execution_count": 35,
   "id": "88a9eced-788e-427b-91ab-e99c513dbe74",
   "metadata": {},
   "outputs": [
    {
     "data": {
      "text/plain": [
       "0    84\n",
       "1    28\n",
       "Name: i_covid_effect_business__10, dtype: int64"
      ]
     },
     "execution_count": 35,
     "metadata": {},
     "output_type": "execute_result"
    }
   ],
   "source": [
    "business['i_covid_effect_business__10'].value_counts()"
   ]
  },
  {
   "cell_type": "code",
   "execution_count": null,
   "id": "51b434a9-085f-4b47-88be-775c8f2a3a64",
   "metadata": {},
   "outputs": [],
   "source": []
  }
 ],
 "metadata": {
  "kernelspec": {
   "display_name": "Python 3",
   "language": "python",
   "name": "python3"
  },
  "language_info": {
   "codemirror_mode": {
    "name": "ipython",
    "version": 3
   },
   "file_extension": ".py",
   "mimetype": "text/x-python",
   "name": "python",
   "nbconvert_exporter": "python",
   "pygments_lexer": "ipython3",
   "version": "3.8.5"
  }
 },
 "nbformat": 4,
 "nbformat_minor": 5
}
